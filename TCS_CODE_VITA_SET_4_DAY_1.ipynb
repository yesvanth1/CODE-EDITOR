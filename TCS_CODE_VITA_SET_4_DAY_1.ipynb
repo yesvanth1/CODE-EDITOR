{
  "nbformat": 4,
  "nbformat_minor": 0,
  "metadata": {
    "colab": {
      "provenance": [],
      "authorship_tag": "ABX9TyPIknMQJ4bDZfGEa/uKmk8p",
      "include_colab_link": true
    },
    "kernelspec": {
      "name": "python3",
      "display_name": "Python 3"
    },
    "language_info": {
      "name": "python"
    }
  },
  "cells": [
    {
      "cell_type": "markdown",
      "metadata": {
        "id": "view-in-github",
        "colab_type": "text"
      },
      "source": [
        "<a href=\"https://colab.research.google.com/github/yesvanth1/CODE-EDITOR/blob/main/TCS_CODE_VITA_SET_4_DAY_1.ipynb\" target=\"_parent\"><img src=\"https://colab.research.google.com/assets/colab-badge.svg\" alt=\"Open In Colab\"/></a>"
      ]
    },
    {
      "cell_type": "code",
      "execution_count": 12,
      "metadata": {
        "colab": {
          "base_uri": "https://localhost:8080/"
        },
        "id": "VByilJoCE8vZ",
        "outputId": "9789b5d3-fabc-4dc5-a781-aba31346c2b4"
      },
      "outputs": [
        {
          "output_type": "stream",
          "name": "stdout",
          "text": [
            "Enter a word: good\n",
            "Enter a character: o\n",
            "The character 'o' occurs 2 times in the string\n"
          ]
        }
      ],
      "source": [
        "word = input(\"Enter a word: \")\n",
        "char = input(\"Enter a character: \")\n",
        "count = word.count(char)\n",
        "print(f\"The character '{char}' occurs {count} times in the string\")"
      ]
    },
    {
      "cell_type": "code",
      "source": [
        "num = int(input(\"Enter a non-negative integer to calculate its factorial: \"))\n",
        "factorial = 1\n",
        "\n",
        "if num < 0:\n",
        "    print(\"Factorial does not exist for negative numbers.\")\n",
        "elif num == 0:\n",
        "    print(\"The factorial of 0 is 1.\")\n",
        "else:\n",
        "    for i in range(1, num + 1):\n",
        "        factorial *= i\n",
        "    print(f\"The factorial of {num} is {factorial}\")"
      ],
      "metadata": {
        "colab": {
          "base_uri": "https://localhost:8080/"
        },
        "id": "A51HiTDbHpMW",
        "outputId": "70ca52bc-acfa-4617-a728-5998c5f2f2ca"
      },
      "execution_count": 13,
      "outputs": [
        {
          "output_type": "stream",
          "name": "stdout",
          "text": [
            "Enter a non-negative integer to calculate its factorial: 7\n",
            "The factorial of 7 is 5040\n"
          ]
        }
      ]
    },
    {
      "cell_type": "code",
      "source": [
        "n = int(input(\"Enter the number of Fibonacci numbers to generate: \"))\n",
        "\n",
        "if n <= 0:\n",
        "    print(\"Please enter a positive integer.\")\n",
        "elif n == 1:\n",
        "    print(\"Fibonacci sequence:\")\n",
        "    print(0)\n",
        "else:\n",
        "    print(\"Fibonacci sequence:\")\n",
        "    a, b = 0, 1\n",
        "    print(a)\n",
        "    print(b)\n",
        "    for i in range(2, n):\n",
        "        c = a + b\n",
        "        print(c)\n",
        "        a, b = b, c"
      ],
      "metadata": {
        "colab": {
          "base_uri": "https://localhost:8080/"
        },
        "id": "cBpeR6TYIf1V",
        "outputId": "16d8edf5-382f-45e3-af88-d69a1ba4de5d"
      },
      "execution_count": null,
      "outputs": [
        {
          "output_type": "stream",
          "name": "stdout",
          "text": [
            "Enter the number of Fibonacci numbers to generate: 11\n",
            "Fibonacci sequence:\n",
            "0\n",
            "1\n",
            "1\n",
            "2\n",
            "3\n",
            "5\n",
            "8\n",
            "13\n",
            "21\n",
            "34\n",
            "55\n"
          ]
        }
      ]
    },
    {
      "cell_type": "code",
      "source": [
        "string = input(\"Enter a string: \")\n",
        "reverse = string[::-1]\n",
        "\n",
        "if string == reverse:\n",
        "    print(f\"'{string}' is a palindrome\")\n",
        "else:\n",
        "    print(f\"'{string}' is not a palindrome\")"
      ],
      "metadata": {
        "colab": {
          "base_uri": "https://localhost:8080/"
        },
        "id": "N4Tyhxp7I_IT",
        "outputId": "921b5a56-a35b-49cb-ed10-86b1e2adea77"
      },
      "execution_count": 14,
      "outputs": [
        {
          "output_type": "stream",
          "name": "stdout",
          "text": [
            "Enter a string: y\n",
            "'y' is a palindrome\n"
          ]
        }
      ]
    },
    {
      "cell_type": "code",
      "source": [
        "# Taking input for matrix A\n",
        "rows_a = int(input(\"Enter the number of rows for matrix A: \"))\n",
        "cols_a = int(input(\"Enter the number of columns for matrix A: \"))\n",
        "print(\"Enter elements for matrix A:\")\n",
        "matrix_a = []\n",
        "for i in range(rows_a):\n",
        "    row = list(map(int, input().split()))\n",
        "    matrix_a.append(row)\n",
        "\n",
        "# Taking input for matrix B\n",
        "rows_b = int(input(\"Enter the number of rows for matrix B: \"))\n",
        "cols_b = int(input(\"Enter the number of columns for matrix B: \"))\n",
        "print(\"Enter elements for matrix B:\")\n",
        "matrix_b = []\n",
        "for i in range(rows_b):\n",
        "    row = list(map(int, input().split()))\n",
        "    matrix_b.append(row)\n",
        "\n",
        "# Checking if matrices can be multiplied\n",
        "if cols_a != rows_b:\n",
        "    print(\"Matrices cannot be multiplied.\")\n",
        "else:\n",
        "    # Initializing the result matrix\n",
        "    result = []\n",
        "    for i in range(rows_a):\n",
        "        row = []\n",
        "        for j in range(cols_b):\n",
        "            row.append(0)\n",
        "        result.append(row)\n",
        "\n",
        "    # Multiplying matrices A and B\n",
        "    for i in range(rows_a):\n",
        "        for j in range(cols_b):\n",
        "            for k in range(cols_a):\n",
        "                result[i][j] += matrix_a[i][k] * matrix_b[k][j]\n",
        "\n",
        "    # Printing the result matrix\n",
        "    print(\"Result of matrix multiplication:\")\n",
        "    for row in result:\n",
        "        print(row)"
      ],
      "metadata": {
        "colab": {
          "base_uri": "https://localhost:8080/"
        },
        "id": "cQZwEALMKnl3",
        "outputId": "e5d40125-740b-4ec6-a508-2b9b4fc4b4cc"
      },
      "execution_count": null,
      "outputs": [
        {
          "output_type": "stream",
          "name": "stdout",
          "text": [
            "Enter the number of rows for matrix A: 2\n",
            "Enter the number of columns for matrix A: 2\n",
            "Enter elements for matrix A:\n",
            "1 2\n",
            "5 2\n",
            "Enter the number of rows for matrix B: 2\n",
            "Enter the number of columns for matrix B: 2\n",
            "Enter elements for matrix B:\n",
            "2 1\n",
            "2 5\n",
            "Result of matrix multiplication:\n",
            "[6, 11]\n",
            "[14, 15]\n"
          ]
        }
      ]
    },
    {
      "cell_type": "code",
      "source": [
        "# Taking input for the array\n",
        "arr = list(map(int, input(\"Enter a list of integers separated by spaces: \").split()))\n",
        "\n",
        "# Sorting the array using the sorted() function\n",
        "sorted_arr = sorted(arr)\n",
        "\n",
        "# Printing the sorted array\n",
        "print(f\"Sorted array: {sorted_arr}\")"
      ],
      "metadata": {
        "colab": {
          "base_uri": "https://localhost:8080/"
        },
        "id": "dZfpxEtsK4ug",
        "outputId": "0f1b571c-26e3-4d34-9deb-663e83fb74b7"
      },
      "execution_count": null,
      "outputs": [
        {
          "output_type": "stream",
          "name": "stdout",
          "text": [
            "Enter a list of integers separated by spaces: 4 10 25 50 62 \n",
            "Sorted array: [4, 10, 25, 50, 62]\n"
          ]
        }
      ]
    }
  ]
}